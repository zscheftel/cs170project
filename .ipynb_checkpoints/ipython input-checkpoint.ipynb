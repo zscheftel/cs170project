{
 "cells": [
  {
   "cell_type": "code",
   "execution_count": 1,
   "metadata": {},
   "outputs": [],
   "source": [
    "import networkx as nx\n",
    "import numpy as np\n",
    "import math\n",
    "from random import choices\n",
    "from string import ascii_lowercase"
   ]
  },
  {
   "cell_type": "code",
   "execution_count": 2,
   "metadata": {},
   "outputs": [],
   "source": [
    "G = nx.Graph()"
   ]
  },
  {
   "cell_type": "code",
   "execution_count": 31,
   "metadata": {},
   "outputs": [],
   "source": [
    "def addVertices(G, V):\n",
    "    G.add_nodes_from(V)\n",
    "    \n",
    "def addEdges(G, V):\n",
    "    for i in range(math.floor(np.random.random()*len(V)*len(V))):\n",
    "        addEdge(G)\n",
    "        \n",
    "def addEdge(G):\n",
    "    gNodes = list(G.nodes)\n",
    "    lenNodes = len(gNodes)\n",
    "    indexOne = math.floor(np.random.random() * lenNodes)\n",
    "    indexTwo = math.floor(np.random.random() * lenNodes)\n",
    "    while indexOne == indexTwo:\n",
    "        indexTwo = math.floor(np.random.random() * lenNodes)\n",
    "    vertexOne = gNodes[indexOne]\n",
    "    vertexTwo = gNodes[indexTwo]\n",
    "    G.add_edge(vertexOne, vertexTwo)\n",
    "def randNames(n):\n",
    "    return [\"\".join(choices(ascii_lowercase, k=3)) for _ in range(n)]\n",
    "\n",
    "def chooseSK(n, minN, maxN):\n",
    "    k = np.random.randint(minN, maxN)\n",
    "    s = math.floor(n / k) + 1\n",
    "    while (k * s) < n:\n",
    "        s += 1 \n",
    "    return k, s\n",
    "\n",
    "def rowdyL(G, size):\n",
    "    nodes = list(G.nodes)\n",
    "    L = []\n",
    "    for i in range(np.random.randint(1, size)):\n",
    "        l = []\n",
    "        for j in range(2, skewedProb(s)):\n",
    "            l.append(nodes[np.random.randint(0, len(nodes))])\n",
    "        if len(l) > 1:\n",
    "            L.append(l)\n",
    "    return L\n",
    "    \n",
    "def skewedProb(size):\n",
    "    prob = [0]*size\n",
    "    for i in range(len(prob)):\n",
    "        prob[i] = (1 / (i + 1))\n",
    "    prob /= np.sum(prob)\n",
    "    number = np.random.choice(size, 1, p=prob)\n",
    "    return number[0]"
   ]
  },
  {
   "cell_type": "code",
   "execution_count": 10,
   "metadata": {},
   "outputs": [],
   "source": [
    "vertices = [\"Alice\", \"Bob\", \"Carol\"]\n",
    "addVertices(G, vertices)\n",
    "addEdges(G, vertices)"
   ]
  },
  {
   "cell_type": "code",
   "execution_count": null,
   "metadata": {},
   "outputs": [],
   "source": []
  },
  {
   "cell_type": "code",
   "execution_count": 32,
   "metadata": {},
   "outputs": [],
   "source": [
    "def createInput(minN, maxN, size):\n",
    "    G = nx.Graph()\n",
    "    n = np.random.randint(minN, maxN)\n",
    "    vertices = randNames(n)\n",
    "    addVertices(G, vertices)\n",
    "    addEdges(G, vertices)\n",
    "    k, s = chooseSK(n, minN, maxN)\n",
    "    L = rowdyL(G, size)\n",
    "    \n",
    "    nx.write_gml(G, \"small/graph.gml\")\n",
    "    f = open(\"small/parameters.txt\",\"w+\")\n",
    "    f.write(str(k)+\"\\n\")\n",
    "    f.write(str(s)+\"\\n\")\n",
    "    for i in range(len(L)):\n",
    "        f.write(str(L[i])+\"\\n\")\n",
    "    f.close()"
   ]
  },
  {
   "cell_type": "code",
   "execution_count": 33,
   "metadata": {},
   "outputs": [],
   "source": [
    "H = createInput(25, 50, 100)"
   ]
  },
  {
   "cell_type": "code",
   "execution_count": null,
   "metadata": {},
   "outputs": [],
   "source": []
  },
  {
   "cell_type": "code",
   "execution_count": null,
   "metadata": {},
   "outputs": [],
   "source": []
  }
 ],
 "metadata": {
  "kernelspec": {
   "display_name": "Python 3",
   "language": "python",
   "name": "python3"
  },
  "language_info": {
   "codemirror_mode": {
    "name": "ipython",
    "version": 3
   },
   "file_extension": ".py",
   "mimetype": "text/x-python",
   "name": "python",
   "nbconvert_exporter": "python",
   "pygments_lexer": "ipython3",
   "version": "3.7.0"
  }
 },
 "nbformat": 4,
 "nbformat_minor": 2
}
