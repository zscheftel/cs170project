{
 "cells": [
  {
   "cell_type": "code",
   "execution_count": 10,
   "metadata": {},
   "outputs": [],
   "source": [
    "import networkx as nx\n",
    "import numpy as np\n",
    "import math\n",
    "from random import choices\n",
    "from string import ascii_lowercase"
   ]
  },
  {
   "cell_type": "code",
   "execution_count": 3,
   "metadata": {},
   "outputs": [],
   "source": [
    "G = nx.Graph()"
   ]
  },
  {
   "cell_type": "code",
   "execution_count": 11,
   "metadata": {},
   "outputs": [],
   "source": [
    "def addVertices(G, V):\n",
    "    G.add_nodes_from(V)\n",
    "    \n",
    "def addEdges(G, V):\n",
    "    for i in range(math.floor(np.random.random()*len(V)*len(V))):\n",
    "        addEdge(G)\n",
    "        \n",
    "def addEdge(G):\n",
    "    gNodes = list(G.nodes)\n",
    "    lenNodes = len(gNodes)\n",
    "    indexOne = math.floor(np.random.random() * lenNodes)\n",
    "    indexTwo = math.floor(np.random.random() * lenNodes)\n",
    "    while indexOne == indexTwo:\n",
    "        indexTwo = math.floor(np.random.random() * lenNodes)\n",
    "    vertexOne = gNodes[indexOne]\n",
    "    vertexTwo = gNodes[indexTwo]\n",
    "    G.add_edge(vertexOne, vertexTwo)\n",
    "def randNames(n):\n",
    "    return [\"\".join(choices(ascii_lowercase, k=3)) for _ in range(n)]\n",
    "\n",
    "def chooseSK(n):\n",
    "    k = np.randint[0, n]\n",
    "    s = math.floor(n / k) + 1\n",
    "    return k, s\n",
    "\n",
    "def rowdyL(size):\n",
    "    L = []\n",
    "    for i in range(np.random.randint(range(size))):\n",
    "        l = []\n",
    "        for j in range(skewedProb(size)):\n",
    "            \n",
    "        \n",
    "def skewedProb(size):\n",
    "    prob = [0]*size\n",
    "    for i in range(len(prob)):\n",
    "        prob[i] = (1 / i + 1)\n",
    "    prob /= np.sum(prob)\n",
    "    number = np.random.choice(size, 1, p=prob)\n",
    "    return number"
   ]
  },
  {
   "cell_type": "code",
   "execution_count": 7,
   "metadata": {},
   "outputs": [],
   "source": [
    "vertices = [\"Alice\", \"Bob\", \"Carol\"]\n",
    "addVertices(G, vertices)\n",
    "addEdges(G, vertices)"
   ]
  },
  {
   "cell_type": "code",
   "execution_count": 14,
   "metadata": {},
   "outputs": [
    {
     "name": "stdout",
     "output_type": "stream",
     "text": [
      "['Alice', 'Bob', 'Carol'] [('Alice', 'Carol')]\n",
      "['ezh', 'ebc', 'jzo', 'jrt', 'owx', 'qej', 'tob', 'mhc', 'vud', 'bwx']\n"
     ]
    }
   ],
   "source": [
    "print(G.nodes, G.edges)\n",
    "print(randNames(10))"
   ]
  },
  {
   "cell_type": "code",
   "execution_count": 20,
   "metadata": {},
   "outputs": [],
   "source": [
    "def createInput(n, size):\n",
    "    G = nx.Graph()\n",
    "    vertices = randNames(n)\n",
    "    addVertices(G, vertices)\n",
    "    addEdges(G, vertices)\n",
    "    k, s = chooseSK(n)\n",
    "    L = rowdyL(size)\n",
    "    return G\n",
    "H = createInput(50)"
   ]
  },
  {
   "cell_type": "code",
   "execution_count": null,
   "metadata": {},
   "outputs": [],
   "source": []
  },
  {
   "cell_type": "code",
   "execution_count": null,
   "metadata": {},
   "outputs": [],
   "source": []
  },
  {
   "cell_type": "code",
   "execution_count": null,
   "metadata": {},
   "outputs": [],
   "source": []
  }
 ],
 "metadata": {
  "kernelspec": {
   "display_name": "Python 3",
   "language": "python",
   "name": "python3"
  },
  "language_info": {
   "codemirror_mode": {
    "name": "ipython",
    "version": 3
   },
   "file_extension": ".py",
   "mimetype": "text/x-python",
   "name": "python",
   "nbconvert_exporter": "python",
   "pygments_lexer": "ipython3",
   "version": "3.7.0"
  }
 },
 "nbformat": 4,
 "nbformat_minor": 2
}
