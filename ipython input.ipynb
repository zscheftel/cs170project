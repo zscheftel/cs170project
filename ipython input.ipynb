{
 "cells": [
  {
   "cell_type": "code",
   "execution_count": 10,
   "metadata": {},
   "outputs": [],
   "source": [
    "import networkx as nx\n",
    "import numpy as np\n",
    "import math\n",
    "from random import choices\n",
    "from string import ascii_lowercase"
   ]
  },
  {
   "cell_type": "code",
   "execution_count": 3,
   "metadata": {},
   "outputs": [],
   "source": [
    "G = nx.Graph()"
   ]
  },
  {
   "cell_type": "code",
   "execution_count": 54,
   "metadata": {},
   "outputs": [],
   "source": [
    "def addVertices(G, V):\n",
    "    G.add_nodes_from(V)\n",
    "    \n",
    "def addEdges(G, V):\n",
    "    for i in range(math.floor(np.random.random()*len(V)*len(V))):\n",
    "        addEdge(G)\n",
    "        \n",
    "def addEdge(G):\n",
    "    gNodes = list(G.nodes)\n",
    "    lenNodes = len(gNodes)\n",
    "    indexOne = math.floor(np.random.random() * lenNodes)\n",
    "    indexTwo = math.floor(np.random.random() * lenNodes)\n",
    "    while indexOne == indexTwo:\n",
    "        indexTwo = math.floor(np.random.random() * lenNodes)\n",
    "    vertexOne = gNodes[indexOne]\n",
    "    vertexTwo = gNodes[indexTwo]\n",
    "    G.add_edge(vertexOne, vertexTwo)\n",
    "def randNames(n):\n",
    "    return [\"\".join(choices(ascii_lowercase, k=3)) for _ in range(n)]\n",
    "\n",
    "def chooseSK(n):\n",
    "    k = np.random.randint(0, n)\n",
    "    s = math.floor(n / k) + 1\n",
    "    return k, s\n",
    "\n",
    "def rowdyL(G, size):\n",
    "    nodes = list(G.nodes)\n",
    "    L = []\n",
    "    for i in range(np.random.randint(0, size)):\n",
    "        l = []\n",
    "        for j in range(2, skewedProb(size)):\n",
    "            l.append(nodes[np.random.randint(0, len(nodes))])\n",
    "        if len(l) > 1:\n",
    "            L.append(l)\n",
    "    return L\n",
    "    \n",
    "def skewedProb(size):\n",
    "    prob = [0]*size\n",
    "    for i in range(len(prob)):\n",
    "        prob[i] = (1 / (i + 1))\n",
    "    prob /= np.sum(prob)\n",
    "    number = np.random.choice(size, 1, p=prob)\n",
    "    return number[0]"
   ]
  },
  {
   "cell_type": "code",
   "execution_count": 35,
   "metadata": {},
   "outputs": [],
   "source": [
    "vertices = [\"Alice\", \"Bob\", \"Carol\"]\n",
    "addVertices(G, vertices)\n",
    "addEdges(G, vertices)"
   ]
  },
  {
   "cell_type": "code",
   "execution_count": 36,
   "metadata": {},
   "outputs": [
    {
     "name": "stdout",
     "output_type": "stream",
     "text": [
      "['Alice', 'Bob', 'Carol'] [('Alice', 'Carol'), ('Alice', 'Bob'), ('Bob', 'Carol')]\n",
      "['otz', 'pzt', 'aye', 'usv', 'fix', 'scr', 'bwg', 'ndn', 'lep', 'hzm']\n"
     ]
    }
   ],
   "source": [
    "print(G.nodes, G.edges)\n",
    "print(randNames(10))"
   ]
  },
  {
   "cell_type": "code",
   "execution_count": 55,
   "metadata": {},
   "outputs": [
    {
     "name": "stdout",
     "output_type": "stream",
     "text": [
      "k:  11\n",
      "s : 5\n",
      "L : [['vkq', 'otg', 'nyg', 'itl', 'mbj', 'pbx', 'dvb', 'qca', 'vna', 'dvb', 'yoh'], ['jru', 'aiy', 'wny', 'qcw', 'ekk', 'qzh', 'syn', 'wny', 'wny', 'itl', 'qcw', 'qbi', 'yse', 'qvb', 'mbj', 'nck', 'yoh', 'qom', 'otg', 'cgt', 'jru', 'qzh', 'aux', 'qom', 'fqb', 'bbl', 'qca'], ['jru', 'aux', 'qzh', 'wny', 'nmg', 'qom', 'cvl', 'rnr', 'znp', 'cvl', 'nck'], ['itl', 'zej', 'ewi', 'mzt', 'nck', 'kko', 'oup', 'oup', 'kko', 'fme', 'cgt', 'maq', 'rnr', 'cvl', 'yse', 'otg', 'nai', 'bho', 'jru', 'vkq', 'aiy', 'nyg', 'etq', 'aiy', 'nai', 'fqb', 'syn', 'itl', 'qom', 'syn', 'krf', 'urq', 'srb', 'srb', 'vkq', 'qzh', 'bbl', 'qbi', 'srb', 'yoh', 'ekk', 'pbx', 'qvb'], ['ewi', 'aux', 'aux', 'rnr', 'aiy', 'oup', 'nai', 'jru', 'itl', 'cvl', 'yse', 'mbj', 'nai', 'krf', 'fqb', 'ewi', 'ewi', 'rnr', 'pbx', 'bbl', 'jru', 'cgt', 'kah', 'qca', 'qbi', 'qom', 'qzh', 'mzt', 'znp', 'yse', 'fme', 'ewi', 'nyg'], ['qcw', 'qvb', 'qbi', 'qcw', 'cgt', 'ekk', 'qvb', 'wny', 'srb', 'mzt', 'kah', 'pzy', 'nmg', 'qom', 'pbx', 'qcw', 'qom', 'wew', 'ekk', 'qvb', 'nai', 'yse', 'mzt', 'ewi', 'mzt', 'ewi', 'yse', 'nmg', 'kko', 'urq', 'nai', 'oup', 'syn', 'cvl', 'etq', 'qbi', 'nai', 'syn', 'dvb', 'syn', 'uxl', 'yoh', 'fqb', 'kah', 'jru', 'syn', 'qbi', 'pbx', 'nyg', 'krf', 'urq', 'qca', 'wny', 'bho', 'wdw', 'qjt', 'jru', 'bho', 'tpb', 'qzh', 'srb', 'srb', 'mbj', 'nmg', 'pzy', 'ewi', 'uxl', 'qbi', 'qcw', 'rnr', 'znp', 'yse', 'wdw', 'pzy', 'ewi', 'pbx', 'yse', 'kko', 'qvb', 'bbl', 'uxl', 'mzt', 'vna', 'pzy', 'qjt', 'vkq', 'pbx', 'yoh', 'oup', 'pbx', 'cvl', 'syn', 'krf', 'vna', 'kah', 'qvb'], ['qcw', 'wew', 'tpb', 'qca', 'fqb', 'aux', 'cvl', 'tpb', 'qca', 'nai', 'pbx', 'wew', 'zej', 'qvb', 'mzt', 'pbx', 'itl', 'krf', 'nai', 'urq', 'oup', 'kko', 'cvl', 'zej', 'qjt', 'oup', 'rnr'], ['rnr', 'fme', 'pbx', 'qzh', 'bbl', 'etq', 'mzt', 'krf', 'nyg', 'ewi'], ['oup', 'uxl', 'otg', 'etq', 'etq', 'yse', 'znp', 'itl', 'jru', 'nmg', 'srb', 'rnr'], ['nyg', 'nck', 'wew', 'bbl', 'cvl', 'wdw', 'fme', 'ewi'], ['itl', 'nai', 'pzy', 'cgt', 'srb', 'aiy', 'nmg', 'wdw', 'etq', 'vna', 'znp', 'qbi', 'fqb', 'bho', 'wny', 'cgt', 'wdw', 'ewi', 'qzh', 'yse', 'cvl', 'qca', 'pbx', 'qcw', 'pbx', 'aiy', 'tpb', 'uxl', 'bho', 'nai', 'kah', 'zej', 'maq', 'fqb', 'pzy', 'nmg', 'oup', 'wew', 'aiy', 'vkq', 'yoh', 'tpb', 'kko', 'itl', 'etq', 'qbi', 'dvb', 'nmg', 'dvb', 'qbi', 'uxl', 'srb', 'dvb', 'urq', 'wdw', 'fme', 'itl', 'znp', 'fme', 'qcw', 'nai', 'maq', 'nai', 'aiy', 'bho', 'qcw', 'nck', 'cvl', 'itl'], ['kah', 'wdw', 'pzy', 'zej', 'qcw', 'nyg', 'otg', 'srb', 'otg', 'znp', 'qzh', 'nai', 'qzh', 'fqb', 'cgt', 'krf', 'aux', 'syn', 'urq', 'zej', 'itl', 'yoh', 'nck', 'qjt', 'nmg', 'qbi', 'dvb', 'vkq', 'yoh', 'aiy', 'uxl', 'qbi', 'oup', 'otg', 'nyg', 'aiy', 'fqb', 'tpb', 'qzh', 'nyg', 'tpb', 'qvb', 'mbj', 'dvb', 'aux', 'yoh', 'uxl', 'tpb', 'znp', 'jru', 'cgt', 'dvb', 'jru', 'jru', 'mbj', 'wew', 'rnr', 'srb', 'nai', 'qjt', 'pzy', 'wew', 'qcw', 'pbx', 'rnr', 'oup', 'bbl', 'aux', 'pbx', 'wny', 'qjt', 'ekk', 'ekk', 'znp', 'aiy', 'vkq'], ['ekk', 'vna', 'syn', 'jru', 'ewi', 'oup', 'qom', 'nmg', 'tpb', 'yoh', 'vna', 'maq', 'nck', 'qcw'], ['uxl', 'bbl', 'mbj', 'kko', 'cgt', 'vkq', 'uxl', 'fme', 'wdw', 'nai', 'pbx', 'qjt', 'urq', 'maq', 'yoh', 'oup', 'bho', 'syn', 'aiy', 'qvb', 'pbx', 'cvl', 'wdw', 'bho', 'aiy', 'kah', 'wny', 'qom', 'ekk', 'qzh', 'znp', 'fme', 'ekk', 'bho', 'mbj', 'mbj', 'pzy', 'bho', 'vkq', 'yoh', 'jru', 'ekk', 'syn', 'kah', 'qvb', 'urq', 'bbl', 'dvb', 'qca', 'qom', 'vna', 'fme', 'bbl', 'nmg', 'nai', 'etq', 'qbi', 'ekk', 'qjt', 'wdw', 'bbl', 'ewi', 'qzh', 'qcw', 'uxl', 'yse', 'cgt', 'otg', 'qcw', 'uxl', 'qjt', 'krf', 'oup', 'qvb', 'urq', 'wew', 'mbj'], ['cgt', 'srb', 'znp', 'fme', 'qzh', 'cvl', 'otg', 'dvb', 'wdw', 'oup', 'cgt', 'bbl', 'aiy', 'znp', 'ekk', 'rnr', 'otg', 'wew', 'otg', 'aux', 'kah', 'wny', 'qom', 'uxl', 'dvb', 'nmg', 'zej', 'pzy', 'wew', 'yoh', 'cgt', 'tpb', 'znp', 'jru', 'rnr', 'yoh', 'syn', 'fqb', 'nyg', 'jru', 'vna', 'yse', 'wny', 'srb', 'syn', 'kah', 'nai', 'uxl', 'cvl', 'kko', 'cgt', 'zej', 'uxl', 'qbi', 'kko', 'nai', 'pzy', 'qvb', 'dvb', 'qbi', 'otg', 'pzy', 'nai', 'vkq', 'cgt', 'cvl', 'pbx', 'aux', 'rnr', 'pbx', 'mzt', 'qbi', 'urq', 'fme', 'cvl', 'etq', 'wdw', 'qca', 'wdw', 'kko', 'cgt', 'tpb', 'qom', 'mbj', 'aiy'], ['nyg', 'pbx', 'cvl', 'rnr', 'wny', 'dvb', 'maq', 'uxl', 'qbi', 'wny', 'oup', 'zej', 'bbl', 'mzt', 'etq', 'qzh', 'etq', 'wew', 'vna', 'aiy', 'qvb', 'vna', 'wew', 'qvb', 'mzt', 'znp', 'fqb', 'bbl', 'kah', 'qbi', 'vkq', 'yse', 'kko', 'qcw', 'syn', 'pzy', 'nmg', 'ewi', 'tpb', 'zej', 'qca', 'jru', 'fqb'], ['aux', 'kko', 'fme', 'etq', 'wdw', 'syn', 'nyg', 'uxl', 'syn', 'syn', 'qjt', 'yse', 'qcw', 'vna', 'cvl', 'uxl', 'cgt', 'urq', 'wdw', 'qca', 'qvb', 'pzy', 'ekk', 'tpb', 'jru', 'wny', 'mzt', 'qvb', 'rnr', 'nck', 'ekk', 'itl', 'urq', 'oup', 'tpb', 'mzt', 'uxl', 'qcw', 'otg', 'dvb', 'wew', 'yoh', 'wdw', 'aiy', 'cgt', 'nai', 'kah', 'nai', 'mbj', 'ekk', 'kah', 'qvb', 'ekk', 'nck', 'tpb', 'qca', 'uxl', 'maq', 'yse', 'jru', 'itl', 'dvb', 'tpb', 'maq', 'bbl', 'mzt', 'nyg', 'vkq', 'aiy', 'tpb', 'jru', 'etq', 'tpb', 'cvl', 'bho', 'mbj', 'pzy', 'jru', 'wny', 'nyg', 'mzt', 'wdw'], ['wew', 'urq', 'ewi', 'vna', 'aiy', 'znp', 'itl', 'zej', 'wdw', 'ekk', 'vna', 'nai', 'maq', 'maq'], ['maq', 'kko', 'aiy', 'qvb', 'rnr', 'cvl', 'qom', 'tpb', 'qca', 'aux', 'yse', 'fme', 'aiy', 'etq', 'vkq', 'nmg', 'kah', 'syn', 'otg', 'tpb', 'aux', 'maq', 'otg', 'yse', 'qzh', 'qom', 'urq', 'nmg', 'qca', 'nyg', 'uxl', 'urq', 'nai', 'fqb', 'yoh', 'uxl', 'otg', 'uxl', 'kah', 'srb', 'znp', 'yoh', 'yse', 'oup', 'aux', 'znp', 'urq', 'rnr', 'zej', 'qjt', 'mbj', 'urq', 'srb', 'mbj', 'vna', 'nai', 'wny', 'kah', 'oup', 'cvl', 'znp', 'urq', 'cvl', 'qbi', 'nck', 'qom', 'yse', 'vna'], ['pbx', 'wdw', 'nai', 'nmg', 'aiy', 'vna', 'vna', 'oup', 'rnr', 'fme', 'etq', 'maq', 'bho', 'ekk', 'qzh', 'qvb', 'nmg', 'urq', 'kko', 'bbl', 'maq', 'qca', 'aiy', 'urq', 'mbj', 'cgt', 'yoh', 'cvl', 'zej', 'dvb', 'qjt', 'ekk', 'pzy', 'fqb', 'otg', 'cgt', 'vna', 'qzh', 'kah', 'fme', 'kah', 'itl', 'qvb', 'qcw', 'qom', 'wew', 'nyg', 'cvl', 'krf', 'itl', 'itl', 'bho', 'znp', 'cgt', 'srb', 'qvb', 'qjt', 'kah', 'nai', 'maq', 'otg', 'wny', 'syn'], ['znp', 'tpb', 'znp', 'yse', 'urq', 'qzh', 'syn', 'ewi', 'zej', 'fme', 'ekk', 'aiy', 'pzy', 'qvb', 'kko', 'bho', 'mbj', 'nck', 'cgt'], ['dvb', 'nyg', 'dvb', 'kko', 'nck', 'yse', 'nai', 'etq', 'cvl', 'qca', 'qom', 'qjt', 'itl', 'wdw', 'kah', 'cgt', 'qjt', 'vkq', 'uxl', 'fqb', 'nmg', 'qjt', 'vkq'], ['qbi', 'cvl', 'pzy', 'nai', 'pbx', 'qvb', 'kko', 'fqb', 'yse', 'pzy', 'itl', 'nck', 'nai'], ['fqb', 'vkq', 'zej', 'zej', 'etq', 'aiy', 'qzh', 'urq', 'dvb', 'pzy', 'maq', 'nmg'], ['zej', 'cgt', 'nyg', 'maq', 'uxl'], ['bho', 'srb', 'ekk', 'cvl', 'srb', 'qcw', 'qcw', 'aiy', 'itl', 'mbj', 'tpb', 'kah', 'kko', 'nck', 'nyg', 'wdw', 'aux', 'nyg', 'kko', 'qzh', 'bbl', 'aiy', 'bho', 'krf', 'tpb', 'bho', 'nmg', 'aux', 'nyg', 'mzt', 'ewi', 'vkq', 'yoh', 'cvl', 'wdw', 'dvb', 'mzt', 'pzy', 'tpb', 'znp', 'otg', 'yoh', 'cvl', 'nai', 'kah', 'vna', 'wew', 'vkq', 'wew', 'znp', 'srb', 'mzt', 'bbl', 'nck', 'qom', 'oup', 'qjt', 'ekk', 'ekk', 'syn', 'qvb', 'vna', 'vna', 'nai', 'qcw', 'tpb', 'aiy', 'bbl', 'nck', 'etq', 'kko', 'znp', 'wny', 'pbx', 'yoh', 'wew', 'zej', 'yse', 'ewi', 'qvb', 'wew', 'kah', 'cgt', 'mbj', 'ekk'], ['uxl', 'vna', 'otg', 'znp', 'pzy', 'kko', 'otg', 'fme', 'syn', 'znp', 'nck', 'yoh', 'tpb', 'cgt', 'vkq', 'kah', 'srb', 'wew', 'mbj', 'qvb', 'uxl', 'nai', 'pzy', 'dvb', 'qcw', 'maq', 'fqb', 'rnr', 'maq', 'bho'], ['vkq', 'yoh', 'dvb', 'ewi', 'itl', 'vkq', 'wdw', 'jru', 'jru', 'qom', 'vkq', 'nyg', 'yoh', 'urq', 'qvb', 'mbj', 'oup', 'vkq', 'oup', 'itl', 'rnr', 'wny', 'vkq', 'cgt', 'yoh', 'maq', 'rnr', 'jru', 'vna', 'nck', 'znp', 'zej', 'rnr', 'wdw', 'wew', 'fme', 'vna', 'vna', 'syn', 'itl', 'znp', 'yoh', 'kah', 'wdw', 'kko', 'uxl', 'nck', 'srb', 'wny', 'znp', 'qca'], ['dvb', 'qvb', 'wny', 'aiy'], ['mbj', 'ekk', 'mzt', 'yse', 'maq', 'bho', 'qom', 'maq'], ['vna', 'oup', 'jru', 'rnr', 'vkq', 'qzh', 'itl', 'ekk', 'syn', 'wew', 'qzh', 'srb', 'nai', 'itl', 'etq', 'qca', 'cvl', 'mzt', 'zej', 'kko', 'oup', 'qcw', 'otg', 'ewi', 'dvb', 'qca', 'krf', 'mbj', 'vkq', 'wew', 'nai', 'pzy', 'nyg', 'cvl', 'qbi', 'rnr', 'rnr', 'rnr', 'qbi', 'krf', 'pzy', 'ewi', 'qjt', 'jru', 'qvb', 'qjt', 'dvb', 'itl', 'syn', 'wew', 'syn', 'cvl', 'cgt', 'yoh', 'qcw', 'qjt', 'vna', 'qcw', 'wew', 'cvl', 'etq', 'pbx', 'bbl', 'krf', 'qzh', 'qzh', 'maq', 'itl', 'fqb', 'maq', 'nyg', 'wdw', 'tpb', 'vkq', 'maq', 'jru'], ['qbi', 'ewi'], ['vkq', 'fme', 'syn', 'wny', 'etq', 'nmg', 'aiy', 'wny', 'kah', 'fqb', 'wew', 'nck', 'vna', 'mzt', 'qbi', 'jru', 'urq', 'bho', 'zej', 'zej', 'qjt', 'cgt', 'nck'], ['wny', 'dvb', 'aux', 'ekk', 'wdw', 'vkq', 'bbl', 'nyg', 'ekk', 'aux', 'etq', 'itl', 'wny', 'vkq', 'wny', 'kah', 'nck', 'ewi', 'oup', 'kko', 'yse', 'jru', 'qvb', 'wny', 'oup', 'dvb', 'maq', 'mbj', 'mzt', 'aiy', 'oup', 'otg', 'qbi', 'wew', 'oup'], ['fqb', 'znp'], ['bho', 'fme', 'kko', 'fme', 'etq', 'dvb', 'mbj', 'aiy', 'tpb', 'dvb', 'pzy', 'jru', 'srb', 'qjt', 'cvl', 'qca', 'qom', 'aiy', 'maq', 'qbi', 'srb', 'qcw', 'ekk', 'aux', 'bho', 'fqb', 'kko'], ['qzh', 'ekk', 'zej', 'bho', 'qcw', 'kah', 'mbj', 'yoh', 'znp', 'mbj', 'wdw', 'yoh', 'krf', 'uxl', 'uxl', 'wew', 'tpb', 'yoh', 'syn', 'qjt', 'qjt', 'qbi', 'mbj', 'etq', 'pzy', 'srb', 'kko', 'bbl', 'nmg', 'qvb', 'etq', 'yse', 'cvl', 'itl', 'vkq', 'aux', 'wdw', 'otg', 'mzt', 'vkq', 'wny', 'srb', 'vna', 'uxl', 'bho', 'wew', 'zej', 'tpb', 'fqb', 'maq', 'dvb', 'nmg', 'znp', 'znp', 'pbx', 'bbl', 'qjt', 'krf', 'oup', 'krf', 'srb', 'qjt', 'mzt', 'uxl', 'nck', 'syn', 'dvb', 'uxl', 'wny', 'bho', 'qvb', 'nmg', 'zej', 'mbj', 'syn'], ['syn', 'oup', 'qzh', 'fme', 'ewi', 'srb', 'maq', 'qbi', 'pbx'], ['urq', 'urq', 'nck', 'wny', 'wdw', 'qca', 'itl', 'nck', 'cvl', 'yoh', 'aiy', 'bbl', 'nmg', 'nmg', 'qom', 'nyg', 'fme', 'srb', 'otg', 'vna', 'aux', 'qbi', 'pzy', 'qcw', 'wew', 'qbi', 'fqb', 'urq', 'bbl', 'urq', 'qvb', 'aiy', 'qca', 'bho', 'bho', 'fme', 'krf', 'pbx', 'bho'], ['znp', 'qca', 'qvb', 'jru', 'syn', 'vna', 'jru', 'vna', 'zej', 'qzh', 'cvl', 'rnr', 'bbl', 'cvl', 'vkq', 'wdw', 'srb', 'wdw', 'zej', 'aiy', 'kko', 'nyg', 'pzy', 'qom', 'fqb', 'qca', 'qom', 'cvl', 'wew', 'otg', 'srb', 'krf', 'tpb', 'maq', 'oup', 'cvl', 'pzy', 'jru', 'fme', 'nck', 'uxl', 'wdw', 'wew', 'rnr', 'qjt', 'kah', 'vkq', 'kah', 'qbi', 'urq', 'bbl', 'cvl', 'zej', 'fme', 'ewi', 'mzt', 'aux'], ['qbi', 'yse', 'rnr', 'nck', 'qzh', 'oup', 'znp', 'qbi', 'rnr', 'bbl', 'ewi', 'kah', 'mzt', 'yse', 'bho', 'yoh', 'nck', 'aux', 'cvl', 'qvb', 'maq', 'fme', 'wny', 'otg', 'qjt', 'qvb', 'fqb', 'qjt', 'vna', 'otg', 'kko', 'cvl', 'aiy', 'fqb', 'wny', 'bho', 'nyg', 'bho', 'wdw', 'znp', 'cgt', 'qca', 'itl', 'aiy', 'aiy'], ['ekk', 'vkq'], ['rnr', 'nck', 'vkq', 'qca', 'pbx'], ['aiy', 'kko', 'bbl', 'vkq', 'urq', 'kah', 'pbx', 'ewi', 'bbl', 'krf', 'yse', 'ewi', 'qbi', 'nyg', 'zej', 'wew', 'cgt', 'znp', 'bho', 'dvb', 'qjt', 'bbl', 'urq', 'cvl', 'mzt', 'aux', 'qjt', 'qom', 'aiy', 'nck', 'mbj', 'tpb', 'vkq', 'mzt', 'qjt', 'otg', 'qbi', 'yoh', 'nyg', 'oup', 'srb', 'pzy', 'mbj', 'bbl', 'qzh', 'itl', 'jru', 'qca', 'jru', 'qbi', 'qom', 'qcw', 'vkq', 'qbi', 'otg', 'yoh', 'rnr', 'yoh', 'pzy', 'aiy', 'maq', 'pbx', 'bho', 'fme', 'znp', 'mzt', 'nmg', 'oup', 'qcw', 'jru', 'yse', 'qcw'], ['krf', 'wew', 'syn', 'aiy', 'qjt', 'nmg', 'pbx', 'qom', 'zej', 'nyg', 'otg', 'krf', 'fqb', 'maq', 'kah', 'syn', 'srb', 'tpb', 'srb', 'yse', 'aiy', 'yoh', 'nai', 'etq', 'ekk', 'fme', 'srb', 'nai', 'itl', 'zej', 'nck', 'qvb', 'ewi', 'mbj', 'etq', 'aux'], ['nyg', 'ewi', 'ewi', 'znp', 'nmg', 'mzt', 'etq', 'qbi', 'qom', 'qom', 'wew', 'nai', 'kko', 'qom', 'itl', 'qzh', 'vna', 'krf', 'pzy', 'fqb', 'nai', 'rnr', 'qcw', 'urq', 'etq', 'kko', 'qom', 'qvb', 'fqb', 'kah'], ['qcw', 'dvb', 'itl', 'jru'], ['etq', 'etq', 'yoh', 'dvb', 'nai', 'pbx', 'zej', 'nai', 'vna'], ['zej', 'dvb', 'itl', 'tpb', 'zej', 'pbx', 'uxl', 'fme', 'fme', 'krf', 'qcw', 'bho', 'mzt', 'aiy', 'vkq', 'mzt', 'qvb', 'uxl', 'kko', 'bbl', 'qzh', 'mbj', 'ekk', 'nai', 'mbj', 'nyg'], ['rnr', 'srb', 'yse', 'yoh', 'nck', 'yse', 'ekk', 'yse', 'uxl', 'nck', 'pbx', 'wdw', 'qjt', 'qvb', 'wew', 'wdw', 'bbl', 'etq', 'cvl', 'cgt'], ['aux', 'wdw', 'kah', 'otg', 'nck', 'uxl', 'maq', 'tpb', 'wew', 'nai', 'cgt', 'yoh', 'qbi', 'yse'], ['pbx', 'aiy', 'bbl', 'tpb'], ['wdw', 'maq', 'uxl', 'otg', 'maq', 'itl', 'krf', 'dvb', 'qjt', 'bbl', 'nai', 'qcw', 'aiy', 'ekk', 'qzh', 'qom', 'pbx', 'yse'], ['aiy', 'kah', 'znp', 'uxl', 'krf', 'ekk', 'qcw', 'mbj', 'qcw', 'wny', 'syn', 'aiy']]\n"
     ]
    }
   ],
   "source": [
    "def createInput(n, size):\n",
    "    G = nx.Graph()\n",
    "    vertices = randNames(n)\n",
    "    addVertices(G, vertices)\n",
    "    addEdges(G, vertices)\n",
    "    k, s = chooseSK(n)\n",
    "    L = rowdyL(G, size)\n",
    "    \n",
    "    print(\"k: \", k)\n",
    "    print(\"s :\", s)\n",
    "    print(\"L :\", L)\n",
    "    \n",
    "H = createInput(50, 100)"
   ]
  },
  {
   "cell_type": "code",
   "execution_count": null,
   "metadata": {},
   "outputs": [],
   "source": []
  },
  {
   "cell_type": "code",
   "execution_count": null,
   "metadata": {},
   "outputs": [],
   "source": []
  },
  {
   "cell_type": "code",
   "execution_count": null,
   "metadata": {},
   "outputs": [],
   "source": []
  }
 ],
 "metadata": {
  "kernelspec": {
   "display_name": "Python 3",
   "language": "python",
   "name": "python3"
  },
  "language_info": {
   "codemirror_mode": {
    "name": "ipython",
    "version": 3
   },
   "file_extension": ".py",
   "mimetype": "text/x-python",
   "name": "python",
   "nbconvert_exporter": "python",
   "pygments_lexer": "ipython3",
   "version": "3.7.0"
  }
 },
 "nbformat": 4,
 "nbformat_minor": 2
}
