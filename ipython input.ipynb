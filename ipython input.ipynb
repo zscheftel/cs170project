{
 "cells": [
  {
   "cell_type": "code",
   "execution_count": 16,
   "metadata": {},
   "outputs": [],
   "source": [
    "import networkx as nx\n",
    "import numpy as np\n",
    "import math\n",
    "from random import choices\n",
    "from string import ascii_lowercase"
   ]
  },
  {
   "cell_type": "code",
   "execution_count": 2,
   "metadata": {},
   "outputs": [],
   "source": [
    "G = nx.Graph()"
   ]
  },
  {
   "cell_type": "code",
   "execution_count": 58,
   "metadata": {},
   "outputs": [],
   "source": [
    "def addVertices(G, V):\n",
    "    G.add_nodes_from(V)\n",
    "\n",
    "def addMaxEdges (G, V):\n",
    "    gNodes = list(G.nodes)\n",
    "    for i in range(len(gNodes)):\n",
    "        for j in range(i+1, len(gNodes)):\n",
    "            G.add_edge(gNodes[i], gNodes[j])\n",
    "\n",
    "# def addEdges(G, V):\n",
    "#     for i in range(math.floor(np.random.random()*len(V)*len(V))):\n",
    "#         addEdge(G)\n",
    "        \n",
    "# def addEdge(G):\n",
    "#     gNodes = list(G.nodes)\n",
    "#     lenNodes = len(gNodes)\n",
    "#     indexOne = math.floor(np.random.random() * lenNodes)\n",
    "#     indexTwo = math.floor(np.random.random() * lenNodes)\n",
    "#     while indexOne == indexTwo:\n",
    "#         indexTwo = math.floor(np.random.random() * lenNodes)\n",
    "#     vertexOne = gNodes[indexOne]\n",
    "#     vertexTwo = gNodes[indexTwo]\n",
    "#     G.add_edge(vertexOne, vertexTwo)\n",
    "\n",
    "def randNames(n):\n",
    "    names = set([\"\".join(choices(ascii_lowercase, k=3)) for _ in range(n)])\n",
    "    while len(names) < n:\n",
    "        names = set([\"\".join(choices(ascii_lowercase, k=3)) for _ in range(n)])\n",
    "    return list(names)\n",
    "        \n",
    "def chooseKS(n):\n",
    "    x = math.ceil(math.sqrt(n)) \n",
    "    return x + 1, x \n",
    "#     k = np.random.randint(1, maxN)\n",
    "#     s = math.floor(n / k) + 1\n",
    "#     while (k * s) < n:\n",
    "#         s += 1\n",
    "#     return k, s\n",
    "\n",
    "def rowdyL(G, size, s):\n",
    "    nodes = list(G.nodes)\n",
    "    L = []\n",
    "    for i in range(len(nodes)):\n",
    "        for j in range(i+1, len(nodes)):\n",
    "            L.append([nodes[i], nodes[j]])\n",
    "    return L\n",
    "    \n",
    "def popFirstRG(L):\n",
    "    return L.pop(0)\n",
    "#     nodes = list(G.nodes)\n",
    "#     L = []\n",
    "#     for i in range(np.random.randint(1, size)):\n",
    "#         l = []\n",
    "#         for j in range(np.random.randint(1, s+1)):\n",
    "#             l.append(nodes[np.random.randint(0, len(nodes))])\n",
    "#         if len(l) > 1:\n",
    "#             L.append(l)\n",
    "#     return L\n",
    "    \n",
    "# def skewedProb(size):\n",
    "#     prob = [0]*size\n",
    "#     for i in range(len(prob)):\n",
    "#         prob[i] = (1 / (i + 1))\n",
    "#     prob /= np.sum(prob)\n",
    "#     number = np.random.choice(size, 1, p=prob)\n",
    "#     return number[0] + 2"
   ]
  },
  {
   "cell_type": "code",
   "execution_count": null,
   "metadata": {},
   "outputs": [],
   "source": []
  },
  {
   "cell_type": "code",
   "execution_count": null,
   "metadata": {},
   "outputs": [],
   "source": []
  },
  {
   "cell_type": "code",
   "execution_count": 29,
   "metadata": {},
   "outputs": [],
   "source": [
    "def createInput(n, size):\n",
    "    G = nx.Graph()\n",
    "    #n = np.random.randint(minN, maxN)\n",
    "    vertices = randNames(n)\n",
    "    addVertices(G, vertices)\n",
    "    addEdges(G, vertices)\n",
    "    k, s = chooseKS(n)\n",
    "    L = rowdyL(G, size, s)\n",
    "    firstRG = popFirstRG(L)\n",
    "    print(k, s)\n",
    "    \n",
    "#     nx.write_gml(G, \"small/graph.gml\")\n",
    "#     f = open(\"small/parameters.txt\",\"w+\")\n",
    "#     f.write(str(k)+\"\\n\")\n",
    "#     f.write(str(s)+\"\\n\")\n",
    "#     for i in range(len(L)):\n",
    "#         f.write(str(L[i])+\"\\n\")\n",
    "#     f.close()\n",
    "    \n",
    "    createOutput(G, L, k, s, firstRG)"
   ]
  },
  {
   "cell_type": "code",
   "execution_count": 46,
   "metadata": {},
   "outputs": [],
   "source": [
    "def createOutput(G, L, k, s, firstRG):\n",
    "    outputGroups = [firstRG]\n",
    "    gNodes = list(G.nodes)\n",
    "    nextGroup = []\n",
    "    for i in range(len(gNodes)):\n",
    "        if len(nextGroup) == s:\n",
    "            outputGroups.append(nextGroup)\n",
    "            nextGroup = []\n",
    "        if gNodes[i] != firstRG[0] and gNodes[i] != firstRG[1]:\n",
    "            nextGroup.append(gNodes[i])\n",
    "    if len(nextGroup) != 0:\n",
    "        outputGroups.append(nextGroup)\n",
    "    total = 0\n",
    "    for _ in outputGroups:\n",
    "        total += len(_)\n",
    "    print(total)"
   ]
  },
  {
   "cell_type": "code",
   "execution_count": null,
   "metadata": {},
   "outputs": [],
   "source": [
    "# H = createInput(500, 1000, 2000)\n",
    "H = createInput(1000, 2000)"
   ]
  },
  {
   "cell_type": "code",
   "execution_count": 19,
   "metadata": {},
   "outputs": [],
   "source": [
    "def smallInput():\n",
    "    #create initial vars\n",
    "    G = nx.Graph()\n",
    "    k, s = 3, 13\n",
    "    #create nodes\n",
    "    for i in range(26):\n",
    "        G.add_node(str(i))\n",
    "    #create friendship edges\n",
    "    G.add_edge(str(0), str(1))\n",
    "    for j in range(2, 22):\n",
    "        if (j % 2 == 0):\n",
    "            G.add_edge(str(j), str(j+3))\n",
    "    G.add_edge(str(24), str(1))\n",
    "    #create rowdy groups\n",
    "    L = []\n",
    "    for i in range(2, 25):\n",
    "        L.append([str(0), str(i)])\n",
    "        L.append([str(1), str(i)])\n",
    "    for j in range(2, 24):\n",
    "        L.append([str(j), str(j+1)])\n",
    "    L.append([str(25), str(2)])\n",
    "    \n",
    "    print(list(G.nodes), list(G.edges), k, s, L)\n",
    "#     firstBus = [str(0), str(1)]\n",
    "#     secondBus = "
   ]
  },
  {
   "cell_type": "code",
   "execution_count": 20,
   "metadata": {},
   "outputs": [
    {
     "name": "stdout",
     "output_type": "stream",
     "text": [
      "['0', '1', '2', '3', '4', '5', '6', '7', '8', '9', '10', '11', '12', '13', '14', '15', '16', '17', '18', '19', '20', '21', '22', '23', '24', '25'] [('0', '1'), ('1', '24'), ('2', '5'), ('4', '7'), ('6', '9'), ('8', '11'), ('10', '13'), ('12', '15'), ('14', '17'), ('16', '19'), ('18', '21'), ('20', '23')] 3 13 [['0', '2'], ['1', '2'], ['0', '3'], ['1', '3'], ['0', '4'], ['1', '4'], ['0', '5'], ['1', '5'], ['0', '6'], ['1', '6'], ['0', '7'], ['1', '7'], ['0', '8'], ['1', '8'], ['0', '9'], ['1', '9'], ['0', '10'], ['1', '10'], ['0', '11'], ['1', '11'], ['0', '12'], ['1', '12'], ['0', '13'], ['1', '13'], ['0', '14'], ['1', '14'], ['0', '15'], ['1', '15'], ['0', '16'], ['1', '16'], ['0', '17'], ['1', '17'], ['0', '18'], ['1', '18'], ['0', '19'], ['1', '19'], ['0', '20'], ['1', '20'], ['0', '21'], ['1', '21'], ['0', '22'], ['1', '22'], ['0', '23'], ['1', '23'], ['0', '24'], ['1', '24'], ['2', '3'], ['3', '4'], ['4', '5'], ['5', '6'], ['6', '7'], ['7', '8'], ['8', '9'], ['9', '10'], ['10', '11'], ['11', '12'], ['12', '13'], ['13', '14'], ['14', '15'], ['15', '16'], ['16', '17'], ['17', '18'], ['18', '19'], ['19', '20'], ['20', '21'], ['21', '22'], ['22', '23'], ['23', '24'], ['25', '2']]\n"
     ]
    }
   ],
   "source": []
  },
  {
   "cell_type": "code",
   "execution_count": null,
   "metadata": {},
   "outputs": [],
   "source": []
  }
 ],
 "metadata": {
  "kernelspec": {
   "display_name": "Python 3",
   "language": "python",
   "name": "python3"
  },
  "language_info": {
   "codemirror_mode": {
    "name": "ipython",
    "version": 3
   },
   "file_extension": ".py",
   "mimetype": "text/x-python",
   "name": "python",
   "nbconvert_exporter": "python",
   "pygments_lexer": "ipython3",
   "version": "3.7.0"
  }
 },
 "nbformat": 4,
 "nbformat_minor": 2
}
