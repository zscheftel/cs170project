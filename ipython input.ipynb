{
 "cells": [
  {
   "cell_type": "code",
   "execution_count": 10,
   "metadata": {},
   "outputs": [],
   "source": [
    "import networkx as nx\n",
    "import numpy as np\n",
    "import math\n",
    "from random import choices\n",
    "from string import ascii_lowercase"
   ]
  },
  {
   "cell_type": "code",
   "execution_count": 3,
   "metadata": {},
   "outputs": [],
   "source": [
    "G = nx.Graph()"
   ]
  },
  {
   "cell_type": "code",
   "execution_count": 79,
   "metadata": {},
   "outputs": [],
   "source": [
    "def addVertices(G, V):\n",
    "    G.add_nodes_from(V)\n",
    "    \n",
    "def addEdges(G, V):\n",
    "    for i in range(math.floor(np.random.random()*len(V)*len(V))):\n",
    "        addEdge(G)\n",
    "        \n",
    "def addEdge(G):\n",
    "    gNodes = list(G.nodes)\n",
    "    lenNodes = len(gNodes)\n",
    "    indexOne = math.floor(np.random.random() * lenNodes)\n",
    "    indexTwo = math.floor(np.random.random() * lenNodes)\n",
    "    while indexOne == indexTwo:\n",
    "        indexTwo = math.floor(np.random.random() * lenNodes)\n",
    "    vertexOne = gNodes[indexOne]\n",
    "    vertexTwo = gNodes[indexTwo]\n",
    "    G.add_edge(vertexOne, vertexTwo)\n",
    "def randNames(n):\n",
    "    return [\"\".join(choices(ascii_lowercase, k=3)) for _ in range(n)]\n",
    "\n",
    "def chooseSK(n):\n",
    "    k = np.random.randint(1, n)\n",
    "    s = math.floor(n / k) + 1\n",
    "    return k, s\n",
    "\n",
    "def rowdyL(G, size):\n",
    "    nodes = list(G.nodes)\n",
    "    L = []\n",
    "    for i in range(np.random.randint(0, size)):\n",
    "        l = []\n",
    "        for j in range(2, skewedProb(size)):\n",
    "            l.append(nodes[np.random.randint(0, len(nodes))])\n",
    "        if len(l) > 1:\n",
    "            L.append(l)\n",
    "    return L\n",
    "    \n",
    "def skewedProb(size):\n",
    "    prob = [0]*size\n",
    "    for i in range(len(prob)):\n",
    "        prob[i] = (1 / (i + 1))\n",
    "    prob /= np.sum(prob)\n",
    "    number = np.random.choice(size, 1, p=prob)\n",
    "    return number[0]"
   ]
  },
  {
   "cell_type": "code",
   "execution_count": 35,
   "metadata": {},
   "outputs": [],
   "source": [
    "vertices = [\"Alice\", \"Bob\", \"Carol\"]\n",
    "addVertices(G, vertices)\n",
    "addEdges(G, vertices)"
   ]
  },
  {
   "cell_type": "code",
   "execution_count": 36,
   "metadata": {},
   "outputs": [
    {
     "name": "stdout",
     "output_type": "stream",
     "text": [
      "['Alice', 'Bob', 'Carol'] [('Alice', 'Carol'), ('Alice', 'Bob'), ('Bob', 'Carol')]\n",
      "['otz', 'pzt', 'aye', 'usv', 'fix', 'scr', 'bwg', 'ndn', 'lep', 'hzm']\n"
     ]
    }
   ],
   "source": [
    "print(G.nodes, G.edges)\n",
    "print(randNames(10))"
   ]
  },
  {
   "cell_type": "code",
   "execution_count": 83,
   "metadata": {},
   "outputs": [],
   "source": [
    "def createInput(n, size):\n",
    "    G = nx.Graph()\n",
    "    vertices = randNames(n)\n",
    "    addVertices(G, vertices)\n",
    "    addEdges(G, vertices)\n",
    "    k, s = chooseSK(n)\n",
    "    L = rowdyL(G, size)\n",
    "    \n",
    "    nx.write_gml(G, \"graph.gml\")\n",
    "    f = open(\"parameters.txt\",\"w+\")\n",
    "    f.write(str(k)+\"\\n\")\n",
    "    f.write(str(s)+\"\\n\")\n",
    "    for i in range(len(L)):\n",
    "        f.write(str(L[i])+\"\\n\")\n",
    "    f.close()\n",
    "    \n",
    "H = createInput(50, 100)"
   ]
  },
  {
   "cell_type": "code",
   "execution_count": 75,
   "metadata": {},
   "outputs": [
    {
     "name": "stdout",
     "output_type": "stream",
     "text": [
      "tva kmq qml fop zna vfs xmx diz etk kfb llt vmu czu tbv jkm tgh ghv ung wiu fqp awi qms nng mcd rge zol zco okk wzu smn esw lwk cik avk lxr\n",
      "kmqqmlfopznavfsxmxdizetkkfblltvmuczutbvjkmtghghvungwiufqpawiqmsnngmcdrgezolzcookkwzusmneswlwkcikavklxr\n",
      "ill kfb wcn qof bob lwk fop jyo zna ung vmu tkg cik jkm mcd qms gkq tbv qmf ktw xmx okk nng qfl wiu llt zol tgh avk esw ayf crd\n",
      "kfbwcnqofboblwkfopjyoznaungvmutkgcikjkmmcdqmsgkqtbvqmfktwxmxokknngqflwiulltzoltghavkeswayfcrd\n",
      "czu qfl etk ktw nng lcz rge cvx zol qof tgh jyo awi okk qms crd bob fqp diz wcn ulk tkg ghv vmu wiu mcd kmq esw kfb cik tbv lxr lwk\n",
      "qfletkktwnnglczrgecvxzolqoftghjyoawiokkqmscrdbobfqpdizwcnulktkgghvvmuwiumcdkmqeswkfbciktbvlxrlwk\n",
      "cvx tkg nng qmf kfb wiu ayf jkm tbv esw kmq etk qms fop diz lcz crd cik qml wzu mcd zco qof rge bob smn zol vfs zna tgh jyo fqp avk\n",
      "tkgnngqmfkfbwiuayfjkmtbveswkmqetkqmsfopdizlczcrdcikqmlwzumcdzcoqofrgebobsmnzolvfsznatghjyofqpavk\n",
      "etk kfb vmu nng bob wcn zol fqp llt diz kmq esw qml xmx fop qof awi zna crd tbv okk tkg lxr smn ung qfl qms ulk zco ktw cik jkm rge ayf lwk lcz qmf\n",
      "kfbvmunngbobwcnzolfqplltdizkmqeswqmlxmxfopqofawiznacrdtbvokktkglxrsmnungqflqmsulkzcoktwcikjkmrgeayflwklczqmf\n",
      "jyo bob ghv avk wiu zco tgh kmq ung llt ulk wzu fqp esw fop wcn vfs rge qfl nng tbv smn zol jkm mcd lxr lcz ktw diz zna vmu\n",
      "bobghvavkwiuzcotghkmqunglltulkwzufqpeswfopwcnvfsrgeqflnngtbvsmnzoljkmmcdlxrlczktwdizznavmu\n",
      "rge qml jkm vmu tbv kfb nng awi fqp xmx wcn diz gkq esw crd avk qms ktw ung vfs zna ghv okk zco qmf lcz qof smn ulk llt\n",
      "qmljkmvmutbvkfbnngawifqpxmxwcndizgkqeswcrdavkqmsktwungvfsznaghvokkzcoqmflczqofsmnulkllt\n",
      "jkm kmq qfl qml mcd ayf xmx smn bob fqp tkg tgh kfb tbv qms wcn awi ung llt wiu zco zna nng lxr lwk avk gkq qmf ulk ktw diz lcz\n",
      "kmqqflqmlmcdayfxmxsmnbobfqptkgtghkfbtbvqmswcnawiunglltwiuzcoznannglxrlwkavkgkqqmfulkktwdizlcz\n",
      "kfb vmu ghv nng mcd wiu awi gkq esw diz ulk ayf qmf okk qof zna lxr tkg lwk fop llt fqp crd cik tbv\n",
      "vmughvnngmcdwiuawigkqeswdizulkayfqmfokkqofznalxrtkglwkfoplltfqpcrdciktbv\n",
      "fop ktw smn cik ung vfs diz fqp awi tgh avk lwk qfl bob xmx ayf qml gkq esw ulk qmf lxr wcn zol mcd zna tkg zco lcz qof\n",
      "ktwsmncikungvfsdizfqpawitghavklwkqflbobxmxayfqmlgkqeswulkqmflxrwcnzolmcdznatkgzcolczqof\n",
      "wcn diz lxr qms llt lwk zna wiu qof ung tkg qfl zol vmu mcd lcz wzu awi ktw tgh crd vfs ghv qmf zco cik avk tbv\n",
      "dizlxrqmslltlwkznawiuqofungtkgqflzolvmumcdlczwzuawiktwtghcrdvfsghvqmfzcocikavktbv\n",
      "wiu mcd ulk qfl lwk okk bob tkg xmx avk qms diz tgh ung vfs kmq zna vmu zco wzu lxr crd ghv qof qmf esw ktw fqp awi\n",
      "mcdulkqfllwkokkbobtkgxmxavkqmsdiztghungvfskmqznavmuzcowzulxrcrdghvqofqmfeswktwfqpawi\n",
      "ung mcd qfl gkq zna tkg bob fqp ayf lxr okk qof awi tgh wzu crd kmq xmx qml vfs ulk lwk zco llt avk\n",
      "mcdqflgkqznatkgbobfqpayflxrokkqofawitghwzucrdkmqxmxqmlvfsulklwkzcolltavk\n",
      "vmu tbv smn ayf diz xmx avk gkq lxr cik qmf ghv okk nng qms crd qml mcd fqp qfl esw llt zco lcz zna kmq\n",
      "tbvsmnayfdizxmxavkgkqlxrcikqmfghvokknngqmscrdqmlmcdfqpqfleswlltzcolczznakmq\n",
      "bob ulk wzu ayf ktw ghv zol diz tbv avk okk lxr tkg awi qmf tgh qfl kmq mcd gkq qof nng zna\n",
      "ulkwzuayfktwghvzoldiztbvavkokklxrtkgawiqmftghqflkmqmcdgkqqofnngzna\n",
      "okk esw wzu zco smn qof kmq ktw zna gkq lxr awi xmx qml tkg llt qfl crd qms diz ghv avk tbv lwk cik\n",
      "eswwzuzcosmnqofkmqktwznagkqlxrawixmxqmltkglltqflcrdqmsdizghvavktbvlwkcik\n",
      "llt tgh tkg qml zco ayf mcd vfs tbv lwk zol qof fqp wzu qfl ulk zna crd gkq xmx awi lxr diz avk\n",
      "tghtkgqmlzcoayfmcdvfstbvlwkzolqoffqpwzuqflulkznacrdgkqxmxawilxrdizavk\n",
      "xmx ulk qfl awi qof qml tbv vfs ktw avk tkg zna kmq qmf cik lxr ghv tgh nng smn qms esw\n",
      "ulkqflawiqofqmltbvvfsktwavktkgznakmqqmfciklxrghvtghnngsmnqmsesw\n",
      "zco crd awi qms gkq smn vfs fqp lwk lxr qml tkg zna ktw zol tbv avk esw ayf nng qfl mcd\n",
      "crdawiqmsgkqsmnvfsfqplwklxrqmltkgznaktwzoltbvavkeswayfnngqflmcd\n",
      "lwk tgh kmq mcd cik zol diz gkq wzu fqp ktw lcz qmf smn qms nng esw ulk ayf ghv zna tbv vfs\n",
      "tghkmqmcdcikzoldizgkqwzufqpktwlczqmfsmnqmsnngeswulkayfghvznatbvvfs\n",
      "qof crd ayf awi wzu ghv esw ulk qmf gkq smn mcd qfl diz nng cik ktw vfs zna qml tgh\n",
      "crdayfawiwzughveswulkqmfgkqsmnmcdqfldiznngcikktwvfsznaqmltgh\n",
      "gkq diz tbv ghv tgh fqp tkg zol lxr ulk qfl cik lcz avk smn crd ayf awi qms vfs zna esw nng\n",
      "diztbvghvtghfqptkgzollxrulkqflciklczavksmncrdayfawiqmsvfsznaeswnng\n",
      "ktw qml qms crd ayf zol avk nng kmq qmf awi vfs wzu tgh lcz ulk cik qfl diz ghv zna\n",
      "qmlqmscrdayfzolavknngkmqqmfawivfswzutghlczulkcikqfldizghvzna\n",
      "ghv avk qms mcd diz tgh esw qmf vfs wzu qml ulk\n",
      "avkqmsmcddiztgheswqmfvfswzuqmlulk\n",
      "avk qms esw kmq tgh qml zna zol lcz mcd ulk crd smn tbv lxr vfs\n",
      "qmseswkmqtghqmlznazollczmcdulkcrdsmntbvlxrvfs\n",
      "lxr zol tbv fqp wzu qms qfl zna kmq smn nng lcz mcd qmf vfs qml\n",
      "zoltbvfqpwzuqmsqflznakmqsmnnnglczmcdqmfvfsqml\n",
      "fqp qmf qfl tkg smn qms vfs kmq tbv qml ulk diz mcd wzu crd ayf\n",
      "qmfqfltkgsmnqmsvfskmqtbvqmlulkdizmcdwzucrdayf\n",
      "tkg kmq diz zol smn awi tbv nng tgh wzu ayf lcz crd vfs\n",
      "kmqdizzolsmnawitbvnngtghwzuayflczcrdvfs\n",
      "ayf tgh zna awi ulk mcd kmq tbv crd diz wzu qfl qmf nng qms esw\n",
      "tghznaawiulkmcdkmqtbvcrddizwzuqflqmfnngqmsesw\n",
      "mcd qfl zol qml nng tbv lcz tgh diz ulk vfs cik\n",
      "qflzolqmlnngtbvlcztghdizulkvfscik\n",
      "smn qfl wzu qml tbv awi tgh crd cik esw lcz diz qms zna nng zol\n",
      "qflwzuqmltbvawitghcrdcikeswlczdizqmsznanngzol\n",
      "crd nng wzu zol tbv ulk qmf diz tgh vfs awi qms esw qfl\n",
      "nngwzuzoltbvulkqmfdiztghvfsawiqmseswqfl\n",
      "kmq zol tgh tbv esw awi qmf nng diz ulk qml\n",
      "zoltghtbveswawiqmfnngdizulkqml\n",
      "zol wzu zna ulk awi tbv lcz nng qfl diz tgh qml qmf vfs esw\n",
      "wzuznaulkawitbvlcznngqfldiztghqmlqmfvfsesw\n",
      "vfs ulk qmf diz lcz zna qfl wzu tbv cik qms\n",
      "ulkqmfdizlczznaqflwzutbvcikqms\n",
      "qmf tgh tbv diz qms cik zna awi\n",
      "tghtbvdizqmscikznaawi\n",
      "esw tgh diz qms lcz zna qfl ulk cik nng tbv\n",
      "tghdizqmslczznaqflulkciknngtbv\n",
      "tbv qms cik diz nng ulk awi\n",
      "qmscikdiznngulkawi\n",
      "qml ulk awi qms nng wzu zna qfl\n",
      "ulkawiqmsnngwzuznaqfl\n",
      "qms diz cik tgh zna nng lcz awi\n",
      "dizciktghznannglczawi\n",
      "qfl awi wzu ulk cik\n",
      "awiwzuulkcik\n",
      "wzu lcz ulk cik zna\n",
      "lczulkcikzna\n",
      "awi diz lcz zna\n",
      "dizlczzna\n",
      "tgh nng zna cik lcz\n",
      "nngznaciklcz\n",
      "diz ulk cik lcz zna nng\n",
      "ulkciklczznanng\n",
      "lcz cik nng\n",
      "ciknng\n",
      "zna cik\n",
      "cik\n",
      "nng cik ulk\n",
      "cikulk\n",
      "cik ulk\n",
      "ulk\n",
      "ulk\n",
      "\n"
     ]
    }
   ],
   "source": [
    "for i in nx.generate_adjlist(H):\n",
    "    print(i)\n",
    "    i = ''.join(i[3:].split())\n",
    "    print(i)"
   ]
  },
  {
   "cell_type": "code",
   "execution_count": null,
   "metadata": {},
   "outputs": [],
   "source": []
  },
  {
   "cell_type": "code",
   "execution_count": null,
   "metadata": {},
   "outputs": [],
   "source": []
  }
 ],
 "metadata": {
  "kernelspec": {
   "display_name": "Python 3",
   "language": "python",
   "name": "python3"
  },
  "language_info": {
   "codemirror_mode": {
    "name": "ipython",
    "version": 3
   },
   "file_extension": ".py",
   "mimetype": "text/x-python",
   "name": "python",
   "nbconvert_exporter": "python",
   "pygments_lexer": "ipython3",
   "version": "3.7.0"
  }
 },
 "nbformat": 4,
 "nbformat_minor": 2
}
